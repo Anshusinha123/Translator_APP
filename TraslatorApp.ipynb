{
 "cells": [
  {
   "cell_type": "code",
   "execution_count": 26,
   "id": "4772c053-e4af-4a02-8846-6cb36cc52f60",
   "metadata": {},
   "outputs": [
    {
     "name": "stdout",
     "output_type": "stream",
     "text": [
      "Requirement already satisfied: playsound in c:\\users\\anshuaditya12\\anaconda3\\lib\\site-packages (1.3.0)\n",
      "Note: you may need to restart the kernel to use updated packages.\n"
     ]
    }
   ],
   "source": [
    "pip install playsound"
   ]
  },
  {
   "cell_type": "code",
   "execution_count": 27,
   "id": "20383353-537f-40f0-a093-4c1e49473a65",
   "metadata": {},
   "outputs": [
    {
     "name": "stdout",
     "output_type": "stream",
     "text": [
      "Requirement already satisfied: SpeechRecognition in c:\\users\\anshuaditya12\\anaconda3\\lib\\site-packages (3.11.0)\n",
      "Requirement already satisfied: requests>=2.26.0 in c:\\users\\anshuaditya12\\anaconda3\\lib\\site-packages (from SpeechRecognition) (2.32.2)\n",
      "Requirement already satisfied: typing-extensions in c:\\users\\anshuaditya12\\anaconda3\\lib\\site-packages (from SpeechRecognition) (4.11.0)\n",
      "Requirement already satisfied: charset-normalizer<4,>=2 in c:\\users\\anshuaditya12\\anaconda3\\lib\\site-packages (from requests>=2.26.0->SpeechRecognition) (2.0.4)\n",
      "Requirement already satisfied: idna<4,>=2.5 in c:\\users\\anshuaditya12\\anaconda3\\lib\\site-packages (from requests>=2.26.0->SpeechRecognition) (2.10)\n",
      "Requirement already satisfied: urllib3<3,>=1.21.1 in c:\\users\\anshuaditya12\\anaconda3\\lib\\site-packages (from requests>=2.26.0->SpeechRecognition) (2.2.2)\n",
      "Requirement already satisfied: certifi>=2017.4.17 in c:\\users\\anshuaditya12\\anaconda3\\lib\\site-packages (from requests>=2.26.0->SpeechRecognition) (2024.7.4)\n",
      "Note: you may need to restart the kernel to use updated packages.\n"
     ]
    }
   ],
   "source": [
    "pip install SpeechRecognition"
   ]
  },
  {
   "cell_type": "code",
   "execution_count": 28,
   "id": "5ffdbf30-cb97-4379-9d24-fe95200e681f",
   "metadata": {},
   "outputs": [
    {
     "name": "stdout",
     "output_type": "stream",
     "text": [
      "Requirement already satisfied: googletrans in c:\\users\\anshuaditya12\\anaconda3\\lib\\site-packages (4.0.0rc1)\n",
      "Requirement already satisfied: httpx==0.13.3 in c:\\users\\anshuaditya12\\anaconda3\\lib\\site-packages (from googletrans) (0.13.3)\n",
      "Requirement already satisfied: certifi in c:\\users\\anshuaditya12\\anaconda3\\lib\\site-packages (from httpx==0.13.3->googletrans) (2024.7.4)\n",
      "Requirement already satisfied: hstspreload in c:\\users\\anshuaditya12\\anaconda3\\lib\\site-packages (from httpx==0.13.3->googletrans) (2024.10.1)\n",
      "Requirement already satisfied: sniffio in c:\\users\\anshuaditya12\\anaconda3\\lib\\site-packages (from httpx==0.13.3->googletrans) (1.3.0)\n",
      "Requirement already satisfied: chardet==3.* in c:\\users\\anshuaditya12\\anaconda3\\lib\\site-packages (from httpx==0.13.3->googletrans) (3.0.4)\n",
      "Requirement already satisfied: idna==2.* in c:\\users\\anshuaditya12\\anaconda3\\lib\\site-packages (from httpx==0.13.3->googletrans) (2.10)\n",
      "Requirement already satisfied: rfc3986<2,>=1.3 in c:\\users\\anshuaditya12\\anaconda3\\lib\\site-packages (from httpx==0.13.3->googletrans) (1.5.0)\n",
      "Requirement already satisfied: httpcore==0.9.* in c:\\users\\anshuaditya12\\anaconda3\\lib\\site-packages (from httpx==0.13.3->googletrans) (0.9.1)\n",
      "Requirement already satisfied: h11<0.10,>=0.8 in c:\\users\\anshuaditya12\\anaconda3\\lib\\site-packages (from httpcore==0.9.*->httpx==0.13.3->googletrans) (0.9.0)\n",
      "Requirement already satisfied: h2==3.* in c:\\users\\anshuaditya12\\anaconda3\\lib\\site-packages (from httpcore==0.9.*->httpx==0.13.3->googletrans) (3.2.0)\n",
      "Requirement already satisfied: hyperframe<6,>=5.2.0 in c:\\users\\anshuaditya12\\anaconda3\\lib\\site-packages (from h2==3.*->httpcore==0.9.*->httpx==0.13.3->googletrans) (5.2.0)\n",
      "Requirement already satisfied: hpack<4,>=3.0 in c:\\users\\anshuaditya12\\anaconda3\\lib\\site-packages (from h2==3.*->httpcore==0.9.*->httpx==0.13.3->googletrans) (3.0.0)\n",
      "Note: you may need to restart the kernel to use updated packages.\n"
     ]
    }
   ],
   "source": [
    "pip install googletrans"
   ]
  },
  {
   "cell_type": "code",
   "execution_count": 29,
   "id": "ac4aba9f-4038-4abd-b6eb-dea089eb9154",
   "metadata": {},
   "outputs": [
    {
     "name": "stdout",
     "output_type": "stream",
     "text": [
      "Requirement already satisfied: gTTS in c:\\users\\anshuaditya12\\anaconda3\\lib\\site-packages (2.5.3)\n",
      "Requirement already satisfied: requests<3,>=2.27 in c:\\users\\anshuaditya12\\anaconda3\\lib\\site-packages (from gTTS) (2.32.2)\n",
      "Requirement already satisfied: click<8.2,>=7.1 in c:\\users\\anshuaditya12\\anaconda3\\lib\\site-packages (from gTTS) (8.1.7)\n",
      "Requirement already satisfied: colorama in c:\\users\\anshuaditya12\\anaconda3\\lib\\site-packages (from click<8.2,>=7.1->gTTS) (0.4.6)\n",
      "Requirement already satisfied: charset-normalizer<4,>=2 in c:\\users\\anshuaditya12\\anaconda3\\lib\\site-packages (from requests<3,>=2.27->gTTS) (2.0.4)\n",
      "Requirement already satisfied: idna<4,>=2.5 in c:\\users\\anshuaditya12\\anaconda3\\lib\\site-packages (from requests<3,>=2.27->gTTS) (2.10)\n",
      "Requirement already satisfied: urllib3<3,>=1.21.1 in c:\\users\\anshuaditya12\\anaconda3\\lib\\site-packages (from requests<3,>=2.27->gTTS) (2.2.2)\n",
      "Requirement already satisfied: certifi>=2017.4.17 in c:\\users\\anshuaditya12\\anaconda3\\lib\\site-packages (from requests<3,>=2.27->gTTS) (2024.7.4)\n",
      "Requirement already satisfied: gTTS-token in c:\\users\\anshuaditya12\\anaconda3\\lib\\site-packages (1.1.4)\n",
      "Requirement already satisfied: requests in c:\\users\\anshuaditya12\\anaconda3\\lib\\site-packages (from gTTS-token) (2.32.2)\n",
      "Requirement already satisfied: charset-normalizer<4,>=2 in c:\\users\\anshuaditya12\\anaconda3\\lib\\site-packages (from requests->gTTS-token) (2.0.4)\n",
      "Requirement already satisfied: idna<4,>=2.5 in c:\\users\\anshuaditya12\\anaconda3\\lib\\site-packages (from requests->gTTS-token) (2.10)\n",
      "Requirement already satisfied: urllib3<3,>=1.21.1 in c:\\users\\anshuaditya12\\anaconda3\\lib\\site-packages (from requests->gTTS-token) (2.2.2)\n",
      "Requirement already satisfied: certifi>=2017.4.17 in c:\\users\\anshuaditya12\\anaconda3\\lib\\site-packages (from requests->gTTS-token) (2024.7.4)\n"
     ]
    }
   ],
   "source": [
    "!pip install gTTS\n",
    "!pip install gTTS-token"
   ]
  },
  {
   "cell_type": "code",
   "execution_count": 30,
   "id": "7bf472bf-9aa4-4754-a91a-4cab86154216",
   "metadata": {},
   "outputs": [
    {
     "name": "stdout",
     "output_type": "stream",
     "text": [
      "Requirement already satisfied: pyaudio in c:\\users\\anshuaditya12\\anaconda3\\lib\\site-packages (0.2.14)\n"
     ]
    }
   ],
   "source": [
    "!pip install pyaudio"
   ]
  },
  {
   "cell_type": "code",
   "execution_count": 31,
   "id": "b6d8ce15-b441-47c7-84eb-45f6aab8fa0e",
   "metadata": {},
   "outputs": [
    {
     "name": "stdout",
     "output_type": "stream",
     "text": [
      "Requirement already satisfied: googletrans==4.0.0-rc1 in c:\\users\\anshuaditya12\\anaconda3\\lib\\site-packages (4.0.0rc1)Note: you may need to restart the kernel to use updated packages.\n",
      "\n",
      "Requirement already satisfied: httpx==0.13.3 in c:\\users\\anshuaditya12\\anaconda3\\lib\\site-packages (from googletrans==4.0.0-rc1) (0.13.3)\n",
      "Requirement already satisfied: certifi in c:\\users\\anshuaditya12\\anaconda3\\lib\\site-packages (from httpx==0.13.3->googletrans==4.0.0-rc1) (2024.7.4)\n",
      "Requirement already satisfied: hstspreload in c:\\users\\anshuaditya12\\anaconda3\\lib\\site-packages (from httpx==0.13.3->googletrans==4.0.0-rc1) (2024.10.1)\n",
      "Requirement already satisfied: sniffio in c:\\users\\anshuaditya12\\anaconda3\\lib\\site-packages (from httpx==0.13.3->googletrans==4.0.0-rc1) (1.3.0)\n",
      "Requirement already satisfied: chardet==3.* in c:\\users\\anshuaditya12\\anaconda3\\lib\\site-packages (from httpx==0.13.3->googletrans==4.0.0-rc1) (3.0.4)\n",
      "Requirement already satisfied: idna==2.* in c:\\users\\anshuaditya12\\anaconda3\\lib\\site-packages (from httpx==0.13.3->googletrans==4.0.0-rc1) (2.10)\n",
      "Requirement already satisfied: rfc3986<2,>=1.3 in c:\\users\\anshuaditya12\\anaconda3\\lib\\site-packages (from httpx==0.13.3->googletrans==4.0.0-rc1) (1.5.0)\n",
      "Requirement already satisfied: httpcore==0.9.* in c:\\users\\anshuaditya12\\anaconda3\\lib\\site-packages (from httpx==0.13.3->googletrans==4.0.0-rc1) (0.9.1)\n",
      "Requirement already satisfied: h11<0.10,>=0.8 in c:\\users\\anshuaditya12\\anaconda3\\lib\\site-packages (from httpcore==0.9.*->httpx==0.13.3->googletrans==4.0.0-rc1) (0.9.0)\n",
      "Requirement already satisfied: h2==3.* in c:\\users\\anshuaditya12\\anaconda3\\lib\\site-packages (from httpcore==0.9.*->httpx==0.13.3->googletrans==4.0.0-rc1) (3.2.0)\n",
      "Requirement already satisfied: hyperframe<6,>=5.2.0 in c:\\users\\anshuaditya12\\anaconda3\\lib\\site-packages (from h2==3.*->httpcore==0.9.*->httpx==0.13.3->googletrans==4.0.0-rc1) (5.2.0)\n",
      "Requirement already satisfied: hpack<4,>=3.0 in c:\\users\\anshuaditya12\\anaconda3\\lib\\site-packages (from h2==3.*->httpcore==0.9.*->httpx==0.13.3->googletrans==4.0.0-rc1) (3.0.0)\n"
     ]
    }
   ],
   "source": [
    "pip install googletrans==4.0.0-rc1\n"
   ]
  },
  {
   "cell_type": "code",
   "execution_count": 32,
   "id": "110dd62a-dd76-4476-bc6b-038e46dfa98f",
   "metadata": {},
   "outputs": [],
   "source": [
    "# Importing necessary modules required  \n",
    "from playsound import playsound \n",
    "import speech_recognition as sr  \n",
    "from googletrans import Translator  \n",
    "from gtts import gTTS  \n",
    "import os"
   ]
  },
  {
   "cell_type": "code",
   "execution_count": 65,
   "id": "c9632c97-e35f-4726-ad3f-0880a5f21a90",
   "metadata": {},
   "outputs": [],
   "source": [
    "dic=('afrikaans', 'af', 'albanian', 'sq', 'amharic', 'am',  \n",
    "     'arabic', 'ar', 'armenian', 'hy', 'azerbaijani', 'az', \n",
    " 'basque', 'eu', 'belarusian', 'be', 'bengali', 'bn', 'bosnian', \n",
    "     'bs', 'bulgarian', 'bg', 'catalan', 'ca', \n",
    "  'cebuano', 'ceb', 'chichewa', 'ny', 'chinese (simplified)', \n",
    "     'zh-cn', 'chinese (traditional)', 'zh-tw', \n",
    "  'corsican', 'co', 'croatian', 'hr', 'czech', 'cs', 'danish', \n",
    "     'da', 'dutch', 'nl', 'english', 'en', 'esperanto', \n",
    "  'eo', 'estonian', 'et', 'filipino', 'tl', 'finnish', 'fi',  \n",
    "     'french', 'fr', 'frisian', 'fy', 'galician', 'gl', \n",
    "  'georgian', 'ka', 'german', 'de', 'greek', 'el', 'gujarati',  \n",
    "     'gu', 'haitian creole', 'ht', 'hausa', 'ha',  \n",
    "  'hawaiian', 'haw', 'hebrew', 'he', 'hindi', 'hi', 'hmong',  \n",
    "     'hmn', 'hungarian', 'hu', 'icelandic', 'is', 'igbo', \n",
    "  'ig', 'indonesian', 'id', 'irish', 'ga', 'italian', 'it',  \n",
    "     'japanese', 'ja', 'javanese', 'jw', 'kannada', 'kn', \n",
    "  'kazakh', 'kk', 'khmer', 'km', 'korean', 'ko', 'kurdish (kurmanji)', \n",
    "     'ku', 'kyrgyz', 'ky', 'lao', 'lo',  \n",
    "  'latin', 'la', 'latvian', 'lv', 'lithuanian', 'lt', 'luxembourgish', \n",
    "     'lb', 'macedonian', 'mk', 'malagasy', \n",
    "  'mg', 'malay', 'ms', 'malayalam', 'ml', 'maltese', 'mt', 'maori', \n",
    "     'mi', 'marathi', 'mr', 'mongolian', 'mn', \n",
    "  'myanmar (burmese)', 'my', 'nepali', 'ne', 'norwegian', 'no', \n",
    "     'odia', 'or', 'pashto', 'ps', 'persian', \n",
    "   'fa', 'polish', 'pl', 'portuguese', 'pt', 'punjabi', 'pa', \n",
    "     'romanian', 'ro', 'russian', 'ru', 'samoan', \n",
    "   'sm', 'scots gaelic', 'gd', 'serbian', 'sr', 'sesotho',  \n",
    "     'st', 'shona', 'sn', 'sindhi', 'sd', 'sinhala', \n",
    "   'si', 'slovak', 'sk', 'slovenian', 'sl', 'somali', 'so',  \n",
    "     'spanish', 'es', 'sundanese', 'su',  \n",
    "  'swahili', 'sw', 'swedish', 'sv', 'tajik', 'tg', 'tamil', \n",
    "     'ta', 'telugu', 'te', 'thai', 'th', 'turkish', 'tr', \n",
    "  'ukrainian', 'uk', 'urdu', 'ur', 'uyghur', 'ug', 'uzbek',  \n",
    "     'uz', 'vietnamese', 'vi', 'welsh', 'cy', 'xhosa', 'xh', \n",
    "  'yiddish', 'yi', 'yoruba', 'yo', 'zulu', 'zu')"
   ]
  },
  {
   "cell_type": "code",
   "execution_count": 67,
   "id": "e7e256cf-c179-4ee7-ba8b-a8e057d2d1ca",
   "metadata": {},
   "outputs": [
    {
     "name": "stdout",
     "output_type": "stream",
     "text": [
      "listening.....\n",
      "Recognizing.....\n",
      "user said are you there\n",
      "\n",
      "Enter the language in which you want to convert (e.g., Hindi, English, etc.)\n",
      "\n",
      "listening.....\n",
      "Recognizing.....\n",
      "user said Malayalam\n",
      "\n",
      "Language in which you are trying to convert is currently not available, please input some other language\n",
      "\n",
      "Enter the language in which you want to convert (e.g., Hindi, English, etc.)\n",
      "\n",
      "listening.....\n",
      "Recognizing.....\n",
      "user said Malyalam\n",
      "\n",
      "Destination language code: ml\n",
      "നിങ്ങൾ അവിടെയുണ്ടോ\n"
     ]
    }
   ],
   "source": [
    "# Capture Voice \n",
    "# takes command through microphone \n",
    "def takecommand(): \n",
    "    r = sr.Recognizer() \n",
    "    with sr.Microphone() as source: \n",
    "        print(\"listening.....\") \n",
    "        r.pause_threshold = 1\n",
    "        audio = r.listen(source) \n",
    "  \n",
    "    try: \n",
    "        print(\"Recognizing.....\") \n",
    "        query = r.recognize_google(audio, language='en-in') \n",
    "        print(f\"user said {query}\\n\") \n",
    "    except Exception as e: \n",
    "        print(\"say that again please.....\") \n",
    "        return \"None\"\n",
    "    return query \n",
    "\n",
    "# Taking voice input from the user \n",
    "query = takecommand() \n",
    "while (query == \"None\"): \n",
    "\tquery = takecommand() \n",
    "\n",
    "\n",
    "\n",
    "def destination_language():\n",
    "    print(\"Enter the language in which you want to convert (e.g., Hindi, English, etc.)\")\n",
    "    print()\n",
    "    \n",
    "    # Input destination language in which the user wants to translate\n",
    "    to_lang = takecommand()\n",
    "    while to_lang == \"None\":\n",
    "        to_lang = takecommand()\n",
    "    to_lang = to_lang.lower()\n",
    "    return to_lang\n",
    "\n",
    "to_lang = destination_language()\n",
    "\n",
    "# Dictionary mapping\n",
    "dic = [\"english\", \"en\", \"hindi\", \"hi\", \"spanish\", \"es\", \"malyalam\" , \"ml\"]  # Example dictionary\n",
    "\n",
    "# Mapping it with the code\n",
    "while to_lang not in dic:\n",
    "    print(\"Language in which you are trying to convert is currently not available, please input some other language\")\n",
    "    print()\n",
    "    to_lang = destination_language()\n",
    "\n",
    "to_lang = dic[dic.index(to_lang) + 1]\n",
    "\n",
    "# Debug point to check the output of `to_lang`\n",
    "print(f\"Destination language code: {to_lang}\")\n",
    "\n",
    "# invoking Translator \n",
    "translator = Translator() \n",
    "\n",
    "# Translating from src to dest \n",
    "text_to_translate = translator.translate(query, dest=to_lang) \n",
    "text = text_to_translate.text \n",
    "\n",
    "# Using Google-Text-to-Speech ie, gTTS() method \n",
    "# to speak the translated text into the \n",
    "# destination language which is stored in to_lang. \n",
    "# Also, we have given 3rd argument as False because \n",
    "# by default it speaks very slowly \n",
    "speak = gTTS(text=text, lang=to_lang, slow=False) \n",
    "\n",
    "# Using save() method to save the translated \n",
    "# speech in capture_voice.mp3 \n",
    "speak.save(\"captured_voice.mp3\") \n",
    "\n",
    "# Using OS module to run the translated voice. \n",
    "playsound('captured_voice.mp3') \n",
    "os.remove('captured_voice.mp3') \n",
    "print(text)\n",
    "\n",
    "\n",
    "\n",
    "\n"
   ]
  },
  {
   "cell_type": "code",
   "execution_count": null,
   "id": "8ea3c6e8-3514-4945-af86-c2ffaf8f2e5b",
   "metadata": {},
   "outputs": [],
   "source": []
  }
 ],
 "metadata": {
  "kernelspec": {
   "display_name": "Python 3 (ipykernel)",
   "language": "python",
   "name": "python3"
  },
  "language_info": {
   "codemirror_mode": {
    "name": "ipython",
    "version": 3
   },
   "file_extension": ".py",
   "mimetype": "text/x-python",
   "name": "python",
   "nbconvert_exporter": "python",
   "pygments_lexer": "ipython3",
   "version": "3.12.4"
  }
 },
 "nbformat": 4,
 "nbformat_minor": 5
}
